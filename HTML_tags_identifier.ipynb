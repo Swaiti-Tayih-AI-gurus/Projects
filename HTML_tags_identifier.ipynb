{
  "nbformat": 4,
  "nbformat_minor": 0,
  "metadata": {
    "colab": {
      "name": "HTML_tags_identifier.ipynb",
      "provenance": [],
      "collapsed_sections": [],
      "include_colab_link": true
    },
    "kernelspec": {
      "name": "python3",
      "display_name": "Python 3"
    }
  },
  "cells": [
    {
      "cell_type": "markdown",
      "metadata": {
        "id": "view-in-github",
        "colab_type": "text"
      },
      "source": [
        "<a href=\"https://colab.research.google.com/github/ooeyad/Projects/blob/master/HTML_tags_identifier.ipynb\" target=\"_parent\"><img src=\"https://colab.research.google.com/assets/colab-badge.svg\" alt=\"Open In Colab\"/></a>"
      ]
    },
    {
      "cell_type": "code",
      "metadata": {
        "id": "2Q7S4-dEu0wU",
        "colab_type": "code",
        "outputId": "2bbc2b7f-1763-4e40-86f6-93cb92c09196",
        "colab": {
          "base_uri": "https://localhost:8080/",
          "height": 121
        }
      },
      "source": [
        "import re\n",
        "from collections import defaultdict\n",
        "\n",
        "inputs = []\n",
        "for _ in range(int(input())):\n",
        "    inputs.append(input())\n",
        "\n",
        "string = ''.join([inp for inp in inputs])\n",
        "\n",
        "results = re.findall(r'<(\\w+)(|\\s+[^>]*)>', string, re.I)\n",
        "\n",
        "tag_attributes = defaultdict(list)\n",
        "for res in results:\n",
        "    tag, attr = res\n",
        "    tag_attributes[tag].extend(\n",
        "        re.findall(r'(\\w+)=[\\'\\\"]', attr)\n",
        "    )\n",
        "\n",
        "    \n",
        "for tag, attr in sorted(tag_attributes.items()):\n",
        "    print(':'.join([tag, ','.join(sorted(set(attr)))]))\n",
        " "
      ],
      "execution_count": 0,
      "outputs": [
        {
          "output_type": "stream",
          "text": [
            "2\n",
            "<p><a href=\"http://www.quackit.com/html/tutorial/html_links.cfm\">Example Link</a></p>\n",
            "<div class=\"more-info\"><a href=\"http://www.quackit.com/html/examples/html_links_examples.cfm\">More Link Examples...</a></div>\n",
            "a:href\n",
            "div:class\n",
            "p:\n"
          ],
          "name": "stdout"
        }
      ]
    }
  ]
}